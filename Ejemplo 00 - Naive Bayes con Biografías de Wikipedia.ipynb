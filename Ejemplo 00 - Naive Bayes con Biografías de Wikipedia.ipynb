{
 "cells": [
  {
   "cell_type": "markdown",
   "metadata": {},
   "source": [
    "# Naive Bayes - Ejemplo de Clasificación\n",
    "\n",
    "Por [Eduardo Graells-Garrido](https://twitter.com/carnby)\n",
    "\n",
    "En este ejemplo veremos una aplicación concreta de Naive Bayes para clasificar texto.\n",
    "\n",
    "Utilizaremos datos de DBpedia, que es una versión estructurada de Wikipedia, y datos que se utilizaron en este artículo científico:\n",
    "\n",
    "  - Wagner, C., Graells-Garrido, E., Garcia, D., & Menczer, F. (2016). [Women through the glass ceiling: gender asymmetries in Wikipedia](https://link.springer.com/article/10.1140/epjds/s13688-016-0066-4). EPJ Data Science, 5(1), 5.\n",
    "\n",
    "Ese dataset contiene biografías de persona y una etiqueta de sexo binaria (hombre/mujer). Lo que haremos es entrenar un clasificador para decidir si una biografía de la cual no conocemos el sexo pertenece a un hombre o a una mujer."
   ]
  },
  {
   "cell_type": "markdown",
   "metadata": {},
   "source": [
    "## Datos"
   ]
  },
  {
   "cell_type": "code",
   "execution_count": null,
   "metadata": {},
   "outputs": [],
   "source": [
    "#!wget http://downloads.dbpedia.org/2016-10/core-i18n/es/long_abstracts_es.tql.bz2"
   ]
  },
  {
   "cell_type": "code",
   "execution_count": 2,
   "metadata": {},
   "outputs": [
    {
     "name": "stdout",
     "output_type": "stream",
     "text": [
      "# started 2017-02-11T14:51:42Z\n",
      "<http://es.dbpedia.org/resource/Astronomía_galáctica> <http://dbpedia.org/ontology/abstract> \"Se denomina astronomía galáctica a la investigación astronómica de nuestra galaxia, la Vía Láctea. La diferencia entre astronomía galáctica y astronomía extragaláctica sólo se empezó a hacer a principios del siglo pasado, cuando las observaciones de Edwin Hubble mostraron sin lugar a dudas que la nebulosa de Andrómeda era una galaxia similar a la nuestra, y a una considerable distancia de ella. Los objetos de interés en nuestra galaxia son muchos, incluyendo estrellas, nubes interestelares —-que es donde la formación estelar se realiza—-, nuestro centro galáctico —-que estamos casi seguros posee un agujero negro—-, etc.\"@es <http://es.wikipedia.org/wiki/Astronomía_galáctica?oldid=90334279> .\n",
      "<http://es.dbpedia.org/resource/Comunicaciones_de_Andorra> <http://dbpedia.org/ontology/abstract> \"Correo: Es gratuito dentro del país y está atendido por Correos de España y La Poste de Francia. Teléfonos fijos:34.922 (2002) Teléfonos móviles:31.325 (2002) Sistema telefónico: \\n* local: sistema moderno con conexiones de relés de radio de microondas entre centrales \\n* internacional: circuitos terrestres a Francia y España Emisoras de radio:AM: 0, FM: 15, onda corta: 0 (1998) Aparatos de radio:16.000 (1997) Emisoras de televisión:1 (2004) Nota: el gobierno promueve la emisión de canales tanto españoles como franceses dentro del territorio andorrano. Aparatos de televisión:27.000 (1997) Proveedores de servicios de Internet:1 (2005) Usuarios de Internet:24.500 (2001) Código de país: AD\"@es <http://es.wikipedia.org/wiki/Comunicaciones_de_Andorra?oldid=83902379> .\n",
      "\n",
      "bunzip2: I/O or other error, bailing out.  Possible reason follows.\n",
      "bunzip2: Broken pipe\n",
      "\tInput file = long_abstracts_es.tql.bz2, output file = (stdout)\n"
     ]
    }
   ],
   "source": [
    "!bunzip2 -c long_abstracts_es.tql.bz2 | head -n 3"
   ]
  },
  {
   "cell_type": "markdown",
   "metadata": {},
   "source": [
    "Utilizaremos Pandas para cargar la meta-data de las biografías:"
   ]
  },
  {
   "cell_type": "code",
   "execution_count": 1,
   "metadata": {},
   "outputs": [],
   "source": [
    "import pandas as pd"
   ]
  },
  {
   "cell_type": "code",
   "execution_count": 2,
   "metadata": {},
   "outputs": [
    {
     "data": {
      "text/html": [
       "<div>\n",
       "<style scoped>\n",
       "    .dataframe tbody tr th:only-of-type {\n",
       "        vertical-align: middle;\n",
       "    }\n",
       "\n",
       "    .dataframe tbody tr th {\n",
       "        vertical-align: top;\n",
       "    }\n",
       "\n",
       "    .dataframe thead th {\n",
       "        text-align: right;\n",
       "    }\n",
       "</style>\n",
       "<table border=\"1\" class=\"dataframe\">\n",
       "  <thead>\n",
       "    <tr style=\"text-align: right;\">\n",
       "      <th></th>\n",
       "      <th>wikidata_entity</th>\n",
       "      <th>class</th>\n",
       "      <th>gender</th>\n",
       "      <th>edition_count</th>\n",
       "      <th>available_english</th>\n",
       "      <th>available_editions</th>\n",
       "      <th>birth_year</th>\n",
       "      <th>death_year</th>\n",
       "      <th>birth_place</th>\n",
       "      <th>death_place</th>\n",
       "      <th>same_as</th>\n",
       "      <th>label</th>\n",
       "    </tr>\n",
       "    <tr>\n",
       "      <th>uri</th>\n",
       "      <th></th>\n",
       "      <th></th>\n",
       "      <th></th>\n",
       "      <th></th>\n",
       "      <th></th>\n",
       "      <th></th>\n",
       "      <th></th>\n",
       "      <th></th>\n",
       "      <th></th>\n",
       "      <th></th>\n",
       "      <th></th>\n",
       "      <th></th>\n",
       "    </tr>\n",
       "  </thead>\n",
       "  <tbody>\n",
       "    <tr>\n",
       "      <th>http://es.dbpedia.org/resource/Rabih_Abou-Khalil</th>\n",
       "      <td>Q449571</td>\n",
       "      <td>http://dbpedia.org/ontology/Artist</td>\n",
       "      <td>male</td>\n",
       "      <td>16</td>\n",
       "      <td>True</td>\n",
       "      <td>es|no|ru|it|lt|pt|fi|hu|he|de|nl|fr|ja|ar|tr|en</td>\n",
       "      <td>NaN</td>\n",
       "      <td>NaN</td>\n",
       "      <td>NaN</td>\n",
       "      <td>NaN</td>\n",
       "      <td>http://dbpedia.org/resource/Rabih_Abou-Khalil</td>\n",
       "      <td>Rabih Abou-Khalil</td>\n",
       "    </tr>\n",
       "    <tr>\n",
       "      <th>http://es.dbpedia.org/resource/Philipp_Boy</th>\n",
       "      <td>Q61437</td>\n",
       "      <td>http://dbpedia.org/ontology/Athlete</td>\n",
       "      <td>male</td>\n",
       "      <td>16</td>\n",
       "      <td>True</td>\n",
       "      <td>es|uk|zh|eo|fa|no|ru|it|ko|pt|fi|nl|de|fr|ja|en</td>\n",
       "      <td>NaN</td>\n",
       "      <td>NaN</td>\n",
       "      <td>NaN</td>\n",
       "      <td>NaN</td>\n",
       "      <td>http://dbpedia.org/resource/Philipp_Boy</td>\n",
       "      <td>Philipp Boy</td>\n",
       "    </tr>\n",
       "    <tr>\n",
       "      <th>http://es.dbpedia.org/resource/Paul_Kummer</th>\n",
       "      <td>Q64009</td>\n",
       "      <td>http://dbpedia.org/ontology/Scientist</td>\n",
       "      <td>male</td>\n",
       "      <td>9</td>\n",
       "      <td>True</td>\n",
       "      <td>es|ru|it|pt|fi|ca|de|fr|en</td>\n",
       "      <td>NaN</td>\n",
       "      <td>NaN</td>\n",
       "      <td>NaN</td>\n",
       "      <td>NaN</td>\n",
       "      <td>http://dbpedia.org/resource/Paul_Kummer</td>\n",
       "      <td>Paul Kummer</td>\n",
       "    </tr>\n",
       "    <tr>\n",
       "      <th>http://es.dbpedia.org/resource/Urien</th>\n",
       "      <td>Q6157422</td>\n",
       "      <td>http://dbpedia.org/ontology/FictionalCharacter</td>\n",
       "      <td>male</td>\n",
       "      <td>1</td>\n",
       "      <td>False</td>\n",
       "      <td>es</td>\n",
       "      <td>NaN</td>\n",
       "      <td>NaN</td>\n",
       "      <td>NaN</td>\n",
       "      <td>NaN</td>\n",
       "      <td>http://wikidata.org/entity/Q6157422</td>\n",
       "      <td>Urien</td>\n",
       "    </tr>\n",
       "    <tr>\n",
       "      <th>http://es.dbpedia.org/resource/Sigmundur_Davíð_Gunnlaugsson</th>\n",
       "      <td>Q463588</td>\n",
       "      <td>http://dbpedia.org/ontology/Politician</td>\n",
       "      <td>male</td>\n",
       "      <td>27</td>\n",
       "      <td>True</td>\n",
       "      <td>es|zh|be|is|pt|oc|lb|ja|no|cs|la|fi|sv|fr|uk|s...</td>\n",
       "      <td>NaN</td>\n",
       "      <td>NaN</td>\n",
       "      <td>NaN</td>\n",
       "      <td>NaN</td>\n",
       "      <td>http://dbpedia.org/resource/Sigmundur_Davíð_Gu...</td>\n",
       "      <td>Sigmundur Davíð Gunnlaugsson</td>\n",
       "    </tr>\n",
       "  </tbody>\n",
       "</table>\n",
       "</div>"
      ],
      "text/plain": [
       "                                                   wikidata_entity  \\\n",
       "uri                                                                  \n",
       "http://es.dbpedia.org/resource/Rabih_Abou-Khalil           Q449571   \n",
       "http://es.dbpedia.org/resource/Philipp_Boy                  Q61437   \n",
       "http://es.dbpedia.org/resource/Paul_Kummer                  Q64009   \n",
       "http://es.dbpedia.org/resource/Urien                      Q6157422   \n",
       "http://es.dbpedia.org/resource/Sigmundur_Davíð_...         Q463588   \n",
       "\n",
       "                                                                                             class  \\\n",
       "uri                                                                                                  \n",
       "http://es.dbpedia.org/resource/Rabih_Abou-Khalil                http://dbpedia.org/ontology/Artist   \n",
       "http://es.dbpedia.org/resource/Philipp_Boy                     http://dbpedia.org/ontology/Athlete   \n",
       "http://es.dbpedia.org/resource/Paul_Kummer                   http://dbpedia.org/ontology/Scientist   \n",
       "http://es.dbpedia.org/resource/Urien                http://dbpedia.org/ontology/FictionalCharacter   \n",
       "http://es.dbpedia.org/resource/Sigmundur_Davíð_...          http://dbpedia.org/ontology/Politician   \n",
       "\n",
       "                                                   gender  edition_count  \\\n",
       "uri                                                                        \n",
       "http://es.dbpedia.org/resource/Rabih_Abou-Khalil     male             16   \n",
       "http://es.dbpedia.org/resource/Philipp_Boy           male             16   \n",
       "http://es.dbpedia.org/resource/Paul_Kummer           male              9   \n",
       "http://es.dbpedia.org/resource/Urien                 male              1   \n",
       "http://es.dbpedia.org/resource/Sigmundur_Davíð_...   male             27   \n",
       "\n",
       "                                                    available_english  \\\n",
       "uri                                                                     \n",
       "http://es.dbpedia.org/resource/Rabih_Abou-Khalil                 True   \n",
       "http://es.dbpedia.org/resource/Philipp_Boy                       True   \n",
       "http://es.dbpedia.org/resource/Paul_Kummer                       True   \n",
       "http://es.dbpedia.org/resource/Urien                            False   \n",
       "http://es.dbpedia.org/resource/Sigmundur_Davíð_...               True   \n",
       "\n",
       "                                                                                   available_editions  \\\n",
       "uri                                                                                                     \n",
       "http://es.dbpedia.org/resource/Rabih_Abou-Khalil      es|no|ru|it|lt|pt|fi|hu|he|de|nl|fr|ja|ar|tr|en   \n",
       "http://es.dbpedia.org/resource/Philipp_Boy            es|uk|zh|eo|fa|no|ru|it|ko|pt|fi|nl|de|fr|ja|en   \n",
       "http://es.dbpedia.org/resource/Paul_Kummer                                 es|ru|it|pt|fi|ca|de|fr|en   \n",
       "http://es.dbpedia.org/resource/Urien                                                               es   \n",
       "http://es.dbpedia.org/resource/Sigmundur_Davíð_...  es|zh|be|is|pt|oc|lb|ja|no|cs|la|fi|sv|fr|uk|s...   \n",
       "\n",
       "                                                    birth_year  death_year  \\\n",
       "uri                                                                          \n",
       "http://es.dbpedia.org/resource/Rabih_Abou-Khalil           NaN         NaN   \n",
       "http://es.dbpedia.org/resource/Philipp_Boy                 NaN         NaN   \n",
       "http://es.dbpedia.org/resource/Paul_Kummer                 NaN         NaN   \n",
       "http://es.dbpedia.org/resource/Urien                       NaN         NaN   \n",
       "http://es.dbpedia.org/resource/Sigmundur_Davíð_...         NaN         NaN   \n",
       "\n",
       "                                                   birth_place death_place  \\\n",
       "uri                                                                          \n",
       "http://es.dbpedia.org/resource/Rabih_Abou-Khalil           NaN         NaN   \n",
       "http://es.dbpedia.org/resource/Philipp_Boy                 NaN         NaN   \n",
       "http://es.dbpedia.org/resource/Paul_Kummer                 NaN         NaN   \n",
       "http://es.dbpedia.org/resource/Urien                       NaN         NaN   \n",
       "http://es.dbpedia.org/resource/Sigmundur_Davíð_...         NaN         NaN   \n",
       "\n",
       "                                                                                              same_as  \\\n",
       "uri                                                                                                     \n",
       "http://es.dbpedia.org/resource/Rabih_Abou-Khalil        http://dbpedia.org/resource/Rabih_Abou-Khalil   \n",
       "http://es.dbpedia.org/resource/Philipp_Boy                    http://dbpedia.org/resource/Philipp_Boy   \n",
       "http://es.dbpedia.org/resource/Paul_Kummer                    http://dbpedia.org/resource/Paul_Kummer   \n",
       "http://es.dbpedia.org/resource/Urien                              http://wikidata.org/entity/Q6157422   \n",
       "http://es.dbpedia.org/resource/Sigmundur_Davíð_...  http://dbpedia.org/resource/Sigmundur_Davíð_Gu...   \n",
       "\n",
       "                                                                           label  \n",
       "uri                                                                               \n",
       "http://es.dbpedia.org/resource/Rabih_Abou-Khalil               Rabih Abou-Khalil  \n",
       "http://es.dbpedia.org/resource/Philipp_Boy                           Philipp Boy  \n",
       "http://es.dbpedia.org/resource/Paul_Kummer                           Paul Kummer  \n",
       "http://es.dbpedia.org/resource/Urien                                       Urien  \n",
       "http://es.dbpedia.org/resource/Sigmundur_Davíð_...  Sigmundur Davíð Gunnlaugsson  "
      ]
     },
     "execution_count": 2,
     "metadata": {},
     "output_type": "execute_result"
    }
   ],
   "source": [
    "person_data = pd.read_csv('person_data_es.csv.gz', index_col='uri')\n",
    "person_data.sample(5)"
   ]
  },
  {
   "cell_type": "code",
   "execution_count": 3,
   "metadata": {},
   "outputs": [
    {
     "data": {
      "text/plain": [
       "170864"
      ]
     },
     "execution_count": 3,
     "metadata": {},
     "output_type": "execute_result"
    }
   ],
   "source": [
    "person_uris = set(person_data.index)\n",
    "len(person_uris)"
   ]
  },
  {
   "cell_type": "markdown",
   "metadata": {},
   "source": [
    "El archivo con la introducción (autocontenida) de cada artículo de Wikipedia lo descargamos más arriba. Lo leeremos línea por línea (nos limitaremos a leer las primeras 500 mil líneas del archivo, por simplicidad), extraeremos el texto utilizando una expresión regular, y nos quedaremos con las que sean biografías de personas, que cruzaremos con los metadatos disponibles."
   ]
  },
  {
   "cell_type": "code",
   "execution_count": 4,
   "metadata": {},
   "outputs": [],
   "source": [
    "import bz2\n",
    "import re\n",
    "\n",
    "parts = re.compile('<(.+)> <(.+)> \"(.*)\"@es.*')"
   ]
  },
  {
   "cell_type": "code",
   "execution_count": 5,
   "metadata": {},
   "outputs": [
    {
     "name": "stdout",
     "output_type": "stream",
     "text": [
      "73471\n"
     ]
    },
    {
     "data": {
      "text/html": [
       "<div>\n",
       "<style scoped>\n",
       "    .dataframe tbody tr th:only-of-type {\n",
       "        vertical-align: middle;\n",
       "    }\n",
       "\n",
       "    .dataframe tbody tr th {\n",
       "        vertical-align: top;\n",
       "    }\n",
       "\n",
       "    .dataframe thead th {\n",
       "        text-align: right;\n",
       "    }\n",
       "</style>\n",
       "<table border=\"1\" class=\"dataframe\">\n",
       "  <thead>\n",
       "    <tr style=\"text-align: right;\">\n",
       "      <th></th>\n",
       "      <th>category</th>\n",
       "      <th>text</th>\n",
       "      <th>wikidata_entity</th>\n",
       "      <th>class</th>\n",
       "      <th>gender</th>\n",
       "      <th>edition_count</th>\n",
       "      <th>available_english</th>\n",
       "      <th>available_editions</th>\n",
       "      <th>birth_year</th>\n",
       "      <th>death_year</th>\n",
       "      <th>birth_place</th>\n",
       "      <th>death_place</th>\n",
       "      <th>same_as</th>\n",
       "      <th>label</th>\n",
       "    </tr>\n",
       "    <tr>\n",
       "      <th>person_uri</th>\n",
       "      <th></th>\n",
       "      <th></th>\n",
       "      <th></th>\n",
       "      <th></th>\n",
       "      <th></th>\n",
       "      <th></th>\n",
       "      <th></th>\n",
       "      <th></th>\n",
       "      <th></th>\n",
       "      <th></th>\n",
       "      <th></th>\n",
       "      <th></th>\n",
       "      <th></th>\n",
       "      <th></th>\n",
       "    </tr>\n",
       "  </thead>\n",
       "  <tbody>\n",
       "    <tr>\n",
       "      <th>http://es.dbpedia.org/resource/Asaph_Hall</th>\n",
       "      <td>http://dbpedia.org/ontology/abstract</td>\n",
       "      <td>Asaph Hall (Goshen, Connecticut, EE. UU.,15 de...</td>\n",
       "      <td>Q106559</td>\n",
       "      <td>http://dbpedia.org/ontology/Scientist</td>\n",
       "      <td>male</td>\n",
       "      <td>40</td>\n",
       "      <td>True</td>\n",
       "      <td>es|zh|eo|be|ko|pt|lb|ja|ka|no|cs|ro|fi|sv|he|d...</td>\n",
       "      <td>NaN</td>\n",
       "      <td>NaN</td>\n",
       "      <td>http://es.dbpedia.org/resource/Estados_Unidos</td>\n",
       "      <td>http://es.dbpedia.org/resource/Estados_Unidos</td>\n",
       "      <td>http://dbpedia.org/resource/Asaph_Hall</td>\n",
       "      <td>Asaph Hall</td>\n",
       "    </tr>\n",
       "    <tr>\n",
       "      <th>http://es.dbpedia.org/resource/Ana_María_Matute</th>\n",
       "      <td>http://dbpedia.org/ontology/abstract</td>\n",
       "      <td>Ana María Matute Ausejo (Barcelona, España, 26...</td>\n",
       "      <td>Q235403</td>\n",
       "      <td>http://dbpedia.org/ontology/Writer</td>\n",
       "      <td>female</td>\n",
       "      <td>21</td>\n",
       "      <td>True</td>\n",
       "      <td>es|simple|eo|fa|sr|ru|it|ast|oc|ro|sv|ca|de|an...</td>\n",
       "      <td>NaN</td>\n",
       "      <td>NaN</td>\n",
       "      <td>http://es.dbpedia.org/resource/España</td>\n",
       "      <td>http://es.dbpedia.org/resource/España</td>\n",
       "      <td>http://dbpedia.org/resource/Ana_María_Matute</td>\n",
       "      <td>Ana María Matute</td>\n",
       "    </tr>\n",
       "    <tr>\n",
       "      <th>http://es.dbpedia.org/resource/Antonio_Vivaldi</th>\n",
       "      <td>http://dbpedia.org/ontology/abstract</td>\n",
       "      <td>Antonio Lucio Vivaldi, (Venecia, 4 de marzo de...</td>\n",
       "      <td>Q1340</td>\n",
       "      <td>http://dbpedia.org/ontology/Artist</td>\n",
       "      <td>male</td>\n",
       "      <td>95</td>\n",
       "      <td>True</td>\n",
       "      <td>es|io|qu|oc|la|he|an|ga|war|af|id|tt|yi|ms|et|...</td>\n",
       "      <td>NaN</td>\n",
       "      <td>NaN</td>\n",
       "      <td>NaN</td>\n",
       "      <td>NaN</td>\n",
       "      <td>http://dbpedia.org/resource/Antonio_Vivaldi</td>\n",
       "      <td>Antonio Vivaldi</td>\n",
       "    </tr>\n",
       "    <tr>\n",
       "      <th>http://es.dbpedia.org/resource/Albert_Einstein</th>\n",
       "      <td>http://dbpedia.org/ontology/abstract</td>\n",
       "      <td>Albert Einstein (en alemán [ˈalbɛɐ̯t ˈaɪnʃtaɪn...</td>\n",
       "      <td>Q937</td>\n",
       "      <td>http://dbpedia.org/ontology/Scientist</td>\n",
       "      <td>male</td>\n",
       "      <td>117</td>\n",
       "      <td>True</td>\n",
       "      <td>es|io|wa|qu|oc|ne|am|la|he|an|ga|af|war|id|tt|...</td>\n",
       "      <td>NaN</td>\n",
       "      <td>NaN</td>\n",
       "      <td>NaN</td>\n",
       "      <td>http://es.dbpedia.org/resource/Estados_Unidos</td>\n",
       "      <td>http://dbpedia.org/resource/Albert_Einstein</td>\n",
       "      <td>Albert Einstein</td>\n",
       "    </tr>\n",
       "    <tr>\n",
       "      <th>http://es.dbpedia.org/resource/Anthony_Quinn</th>\n",
       "      <td>http://dbpedia.org/ontology/abstract</td>\n",
       "      <td>Anthony Quinn (Antonio Rodolfo Quinn Oaxaca: C...</td>\n",
       "      <td>Q83484</td>\n",
       "      <td>http://dbpedia.org/ontology/Artist</td>\n",
       "      <td>male</td>\n",
       "      <td>65</td>\n",
       "      <td>True</td>\n",
       "      <td>es|zh|eo|be|io|ko|pt|oc|lb|nn|ml|ja|ar|th|lv|a...</td>\n",
       "      <td>NaN</td>\n",
       "      <td>NaN</td>\n",
       "      <td>http://es.dbpedia.org/resource/México</td>\n",
       "      <td>http://es.dbpedia.org/resource/Estados_Unidos</td>\n",
       "      <td>http://dbpedia.org/resource/Anthony_Quinn</td>\n",
       "      <td>Anthony Quinn</td>\n",
       "    </tr>\n",
       "  </tbody>\n",
       "</table>\n",
       "</div>"
      ],
      "text/plain": [
       "                                                                             category  \\\n",
       "person_uri                                                                              \n",
       "http://es.dbpedia.org/resource/Asaph_Hall        http://dbpedia.org/ontology/abstract   \n",
       "http://es.dbpedia.org/resource/Ana_María_Matute  http://dbpedia.org/ontology/abstract   \n",
       "http://es.dbpedia.org/resource/Antonio_Vivaldi   http://dbpedia.org/ontology/abstract   \n",
       "http://es.dbpedia.org/resource/Albert_Einstein   http://dbpedia.org/ontology/abstract   \n",
       "http://es.dbpedia.org/resource/Anthony_Quinn     http://dbpedia.org/ontology/abstract   \n",
       "\n",
       "                                                                                              text  \\\n",
       "person_uri                                                                                           \n",
       "http://es.dbpedia.org/resource/Asaph_Hall        Asaph Hall (Goshen, Connecticut, EE. UU.,15 de...   \n",
       "http://es.dbpedia.org/resource/Ana_María_Matute  Ana María Matute Ausejo (Barcelona, España, 26...   \n",
       "http://es.dbpedia.org/resource/Antonio_Vivaldi   Antonio Lucio Vivaldi, (Venecia, 4 de marzo de...   \n",
       "http://es.dbpedia.org/resource/Albert_Einstein   Albert Einstein (en alemán [ˈalbɛɐ̯t ˈaɪnʃtaɪn...   \n",
       "http://es.dbpedia.org/resource/Anthony_Quinn     Anthony Quinn (Antonio Rodolfo Quinn Oaxaca: C...   \n",
       "\n",
       "                                                wikidata_entity  \\\n",
       "person_uri                                                        \n",
       "http://es.dbpedia.org/resource/Asaph_Hall               Q106559   \n",
       "http://es.dbpedia.org/resource/Ana_María_Matute         Q235403   \n",
       "http://es.dbpedia.org/resource/Antonio_Vivaldi            Q1340   \n",
       "http://es.dbpedia.org/resource/Albert_Einstein             Q937   \n",
       "http://es.dbpedia.org/resource/Anthony_Quinn             Q83484   \n",
       "\n",
       "                                                                                 class  \\\n",
       "person_uri                                                                               \n",
       "http://es.dbpedia.org/resource/Asaph_Hall        http://dbpedia.org/ontology/Scientist   \n",
       "http://es.dbpedia.org/resource/Ana_María_Matute     http://dbpedia.org/ontology/Writer   \n",
       "http://es.dbpedia.org/resource/Antonio_Vivaldi      http://dbpedia.org/ontology/Artist   \n",
       "http://es.dbpedia.org/resource/Albert_Einstein   http://dbpedia.org/ontology/Scientist   \n",
       "http://es.dbpedia.org/resource/Anthony_Quinn        http://dbpedia.org/ontology/Artist   \n",
       "\n",
       "                                                 gender  edition_count  \\\n",
       "person_uri                                                               \n",
       "http://es.dbpedia.org/resource/Asaph_Hall          male             40   \n",
       "http://es.dbpedia.org/resource/Ana_María_Matute  female             21   \n",
       "http://es.dbpedia.org/resource/Antonio_Vivaldi     male             95   \n",
       "http://es.dbpedia.org/resource/Albert_Einstein     male            117   \n",
       "http://es.dbpedia.org/resource/Anthony_Quinn       male             65   \n",
       "\n",
       "                                                 available_english  \\\n",
       "person_uri                                                           \n",
       "http://es.dbpedia.org/resource/Asaph_Hall                     True   \n",
       "http://es.dbpedia.org/resource/Ana_María_Matute               True   \n",
       "http://es.dbpedia.org/resource/Antonio_Vivaldi                True   \n",
       "http://es.dbpedia.org/resource/Albert_Einstein                True   \n",
       "http://es.dbpedia.org/resource/Anthony_Quinn                  True   \n",
       "\n",
       "                                                                                available_editions  \\\n",
       "person_uri                                                                                           \n",
       "http://es.dbpedia.org/resource/Asaph_Hall        es|zh|eo|be|ko|pt|lb|ja|ka|no|cs|ro|fi|sv|he|d...   \n",
       "http://es.dbpedia.org/resource/Ana_María_Matute  es|simple|eo|fa|sr|ru|it|ast|oc|ro|sv|ca|de|an...   \n",
       "http://es.dbpedia.org/resource/Antonio_Vivaldi   es|io|qu|oc|la|he|an|ga|war|af|id|tt|yi|ms|et|...   \n",
       "http://es.dbpedia.org/resource/Albert_Einstein   es|io|wa|qu|oc|ne|am|la|he|an|ga|af|war|id|tt|...   \n",
       "http://es.dbpedia.org/resource/Anthony_Quinn     es|zh|eo|be|io|ko|pt|oc|lb|nn|ml|ja|ar|th|lv|a...   \n",
       "\n",
       "                                                 birth_year  death_year  \\\n",
       "person_uri                                                                \n",
       "http://es.dbpedia.org/resource/Asaph_Hall               NaN         NaN   \n",
       "http://es.dbpedia.org/resource/Ana_María_Matute         NaN         NaN   \n",
       "http://es.dbpedia.org/resource/Antonio_Vivaldi          NaN         NaN   \n",
       "http://es.dbpedia.org/resource/Albert_Einstein          NaN         NaN   \n",
       "http://es.dbpedia.org/resource/Anthony_Quinn            NaN         NaN   \n",
       "\n",
       "                                                                                   birth_place  \\\n",
       "person_uri                                                                                       \n",
       "http://es.dbpedia.org/resource/Asaph_Hall        http://es.dbpedia.org/resource/Estados_Unidos   \n",
       "http://es.dbpedia.org/resource/Ana_María_Matute          http://es.dbpedia.org/resource/España   \n",
       "http://es.dbpedia.org/resource/Antonio_Vivaldi                                             NaN   \n",
       "http://es.dbpedia.org/resource/Albert_Einstein                                             NaN   \n",
       "http://es.dbpedia.org/resource/Anthony_Quinn             http://es.dbpedia.org/resource/México   \n",
       "\n",
       "                                                                                   death_place  \\\n",
       "person_uri                                                                                       \n",
       "http://es.dbpedia.org/resource/Asaph_Hall        http://es.dbpedia.org/resource/Estados_Unidos   \n",
       "http://es.dbpedia.org/resource/Ana_María_Matute          http://es.dbpedia.org/resource/España   \n",
       "http://es.dbpedia.org/resource/Antonio_Vivaldi                                             NaN   \n",
       "http://es.dbpedia.org/resource/Albert_Einstein   http://es.dbpedia.org/resource/Estados_Unidos   \n",
       "http://es.dbpedia.org/resource/Anthony_Quinn     http://es.dbpedia.org/resource/Estados_Unidos   \n",
       "\n",
       "                                                                                      same_as  \\\n",
       "person_uri                                                                                      \n",
       "http://es.dbpedia.org/resource/Asaph_Hall              http://dbpedia.org/resource/Asaph_Hall   \n",
       "http://es.dbpedia.org/resource/Ana_María_Matute  http://dbpedia.org/resource/Ana_María_Matute   \n",
       "http://es.dbpedia.org/resource/Antonio_Vivaldi    http://dbpedia.org/resource/Antonio_Vivaldi   \n",
       "http://es.dbpedia.org/resource/Albert_Einstein    http://dbpedia.org/resource/Albert_Einstein   \n",
       "http://es.dbpedia.org/resource/Anthony_Quinn        http://dbpedia.org/resource/Anthony_Quinn   \n",
       "\n",
       "                                                            label  \n",
       "person_uri                                                         \n",
       "http://es.dbpedia.org/resource/Asaph_Hall              Asaph Hall  \n",
       "http://es.dbpedia.org/resource/Ana_María_Matute  Ana María Matute  \n",
       "http://es.dbpedia.org/resource/Antonio_Vivaldi    Antonio Vivaldi  \n",
       "http://es.dbpedia.org/resource/Albert_Einstein    Albert Einstein  \n",
       "http://es.dbpedia.org/resource/Anthony_Quinn        Anthony Quinn  "
      ]
     },
     "execution_count": 5,
     "metadata": {},
     "output_type": "execute_result"
    }
   ],
   "source": [
    "from itertools import islice\n",
    "\n",
    "records = []\n",
    "\n",
    "with bz2.open('long_abstracts_es.tql.bz2') as f:\n",
    "    for line in islice(f, 500000):\n",
    "        line = line.decode('utf-8')\n",
    "        match = parts.match(line)\n",
    "        if match:\n",
    "            groups = match.groups()\n",
    "            if groups[0] in person_uris:\n",
    "                records.append({\n",
    "                    'person_uri': groups[0],\n",
    "                    'category': groups[1],\n",
    "                    'text': groups[2]\n",
    "                })\n",
    "            \n",
    "records = pd.DataFrame.from_records(records).set_index('person_uri').join(person_data, how='left')\n",
    "print(len(records))\n",
    "records.head()"
   ]
  },
  {
   "cell_type": "markdown",
   "metadata": {},
   "source": [
    "Veamos como se distribuye la variable `gender` en el dataset:"
   ]
  },
  {
   "cell_type": "code",
   "execution_count": 6,
   "metadata": {},
   "outputs": [
    {
     "data": {
      "text/plain": [
       "male                  61296\n",
       "female                12170\n",
       "transgender female        4\n",
       "transgender male          1\n",
       "Name: gender, dtype: int64"
      ]
     },
     "execution_count": 6,
     "metadata": {},
     "output_type": "execute_result"
    }
   ],
   "source": [
    "records.gender.value_counts()"
   ]
  },
  {
   "cell_type": "markdown",
   "metadata": {},
   "source": [
    "Aparte de un desbalance en la cantidad de biografías, vemos que también hay personas trans. Como son tan pocas, les quitaremos el prefijo _transgender_:"
   ]
  },
  {
   "cell_type": "code",
   "execution_count": 7,
   "metadata": {},
   "outputs": [],
   "source": [
    "records.gender.replace('transgender female', 'female', inplace=True)\n",
    "records.gender.replace('transgender male', 'male', inplace=True)"
   ]
  },
  {
   "cell_type": "code",
   "execution_count": 8,
   "metadata": {},
   "outputs": [
    {
     "data": {
      "text/plain": [
       "male      61297\n",
       "female    12174\n",
       "Name: gender, dtype: int64"
      ]
     },
     "execution_count": 8,
     "metadata": {},
     "output_type": "execute_result"
    }
   ],
   "source": [
    "records.gender.value_counts()"
   ]
  },
  {
   "cell_type": "markdown",
   "metadata": {},
   "source": [
    "Así se ve una biografía de ejemplo:"
   ]
  },
  {
   "cell_type": "code",
   "execution_count": 9,
   "metadata": {},
   "outputs": [
    {
     "name": "stdout",
     "output_type": "stream",
     "text": [
      "Albert Einstein (en alemán [ˈalbɛɐ̯t ˈaɪnʃtaɪn]; Ulm, Imperio alemán, 14 de marzo de 1879-Princeton, Estados Unidos, 18 de abril de 1955) fue un físico alemán de origen judío, nacionalizado después suizo y estadounidense. Es considerado como el científico más conocido y popular del siglo XX. En 1905, cuando era un joven físico desconocido, empleado en la Oficina de Patentes de Berna, publicó su teoría de la relatividad especial. En ella incorporó, en un marco teórico simple fundamentado en postulados físicos sencillos, conceptos y fenómenos estudiados antes por Henri Poincaré y por Hendrik Lorentz. Como una consecuencia lógica de esta teoría, dedujo la ecuación de la física más conocida a nivel popular: la equivalencia masa-energía, E=mc². Ese año publicó otros trabajos que sentarían bases para la física estadística y la mecánica cuántica. En 1915 presentó la teoría de la relatividad general, en la que reformuló por completo el concepto de gravedad. Una de las consecuencias fue el surgimiento del estudio científico del origen y la evolución del Universo por la rama de la física denominada cosmología. En 1919, cuando las observaciones británicas de un eclipse solar confirmaron sus predicciones acerca de la curvatura de la luz, fue idolatrado por la prensa. Einstein se convirtió en un icono popular de la ciencia mundialmente famoso, un privilegio al alcance de muy pocos científicos. Por sus explicaciones sobre el efecto fotoeléctrico y sus numerosas contribuciones a la física teórica, en 1921 obtuvo el Premio Nobel de Física y no por la Teoría de la Relatividad, pues el científico a quien se encomendó la tarea de evaluarla no la entendió, y temieron correr el riesgo de que luego se demostrase errónea. En esa época era aún considerada un tanto controvertida. Ante el ascenso del nazismo, Einstein abandonó Alemania hacia diciembre de 1932 con destino a Estados Unidos, donde se dedicó a la docencia en el Institute for Advanced Study. Se nacionalizó estadounidense en 1940. Durante sus últimos años trabajó por integrar en una misma teoría la fuerza gravitatoria y la electromagnética. Aunque es considerado por algunos como el «padre de la bomba atómica», abogó por el federalismo mundial, el internacionalismo, el pacifismo, el sionismo y el socialismo democrático, con una fuerte devoción por la libertad individual y la libertad de expresión. Fue proclamado como el «personaje del siglo XX» y el más preeminente científico por la revista Time.\n"
     ]
    }
   ],
   "source": [
    "print(records.loc['http://es.dbpedia.org/resource/Albert_Einstein'].text)"
   ]
  },
  {
   "cell_type": "markdown",
   "metadata": {},
   "source": [
    "Utilizaremos el transformador `LabelEncoder` para convertir la columna de sexo (texto) en números (0 o 1)."
   ]
  },
  {
   "cell_type": "code",
   "execution_count": 10,
   "metadata": {},
   "outputs": [
    {
     "name": "stderr",
     "output_type": "stream",
     "text": [
      "/home/egraells/.virtualenvs/jupyter/lib/python3.5/site-packages/sklearn/preprocessing/label.py:111: DataConversionWarning: A column-vector y was passed when a 1d array was expected. Please change the shape of y to (n_samples, ), for example using ravel().\n",
      "  y = column_or_1d(y, warn=True)\n"
     ]
    },
    {
     "data": {
      "text/plain": [
       "array([1, 0, 1, ..., 0, 1, 1])"
      ]
     },
     "execution_count": 10,
     "metadata": {},
     "output_type": "execute_result"
    }
   ],
   "source": [
    "from sklearn.preprocessing import LabelEncoder\n",
    "\n",
    "vec = LabelEncoder()\n",
    "labels = vec.fit_transform(records.loc[:,('gender',)])\n",
    "labels"
   ]
  },
  {
   "cell_type": "code",
   "execution_count": 11,
   "metadata": {},
   "outputs": [
    {
     "data": {
      "text/plain": [
       "array(['female', 'male'], dtype=object)"
      ]
     },
     "execution_count": 11,
     "metadata": {},
     "output_type": "execute_result"
    }
   ],
   "source": [
    "vec.classes_"
   ]
  },
  {
   "cell_type": "markdown",
   "metadata": {},
   "source": [
    "Utilizaremos el vectorizador `TfidfVectorizer` para cuantificar las palabras más discriminativas y relevantes en cada biografía, y obtener una matriz de características con esos valores:"
   ]
  },
  {
   "cell_type": "code",
   "execution_count": 12,
   "metadata": {},
   "outputs": [],
   "source": [
    "from sklearn.feature_extraction.text import TfidfVectorizer\n",
    "\n",
    "tfidf = TfidfVectorizer()\n",
    "text_matrix = tfidf.fit_transform(records['text'])"
   ]
  },
  {
   "cell_type": "code",
   "execution_count": 13,
   "metadata": {},
   "outputs": [
    {
     "data": {
      "text/plain": [
       "<73471x207148 sparse matrix of type '<class 'numpy.float64'>'\n",
       "\twith 4292963 stored elements in Compressed Sparse Row format>"
      ]
     },
     "execution_count": 13,
     "metadata": {},
     "output_type": "execute_result"
    }
   ],
   "source": [
    "text_matrix"
   ]
  },
  {
   "cell_type": "markdown",
   "metadata": {},
   "source": [
    "Dividimos el resultado en entrenamiento y test:"
   ]
  },
  {
   "cell_type": "code",
   "execution_count": 14,
   "metadata": {},
   "outputs": [
    {
     "name": "stderr",
     "output_type": "stream",
     "text": [
      "/home/egraells/.virtualenvs/jupyter/lib/python3.5/site-packages/sklearn/model_selection/_split.py:2026: FutureWarning: From version 0.21, test_size will always complement train_size unless both are specified.\n",
      "  FutureWarning)\n"
     ]
    }
   ],
   "source": [
    "from sklearn.model_selection import train_test_split\n",
    "\n",
    "X1, X2, y1, y2 = train_test_split(text_matrix, labels, random_state=0, train_size=0.5, \n",
    "                                  stratify=labels)"
   ]
  },
  {
   "cell_type": "markdown",
   "metadata": {},
   "source": [
    "Utilizaremos el clasificador `MultinomialNB` que vimos en clase:"
   ]
  },
  {
   "cell_type": "code",
   "execution_count": 15,
   "metadata": {},
   "outputs": [
    {
     "data": {
      "text/plain": [
       "MultinomialNB(alpha=1.0, class_prior=None, fit_prior=True)"
      ]
     },
     "execution_count": 15,
     "metadata": {},
     "output_type": "execute_result"
    }
   ],
   "source": [
    "from sklearn.naive_bayes import MultinomialNB\n",
    "\n",
    "model = MultinomialNB()\n",
    "model.fit(X1, y1)"
   ]
  },
  {
   "cell_type": "markdown",
   "metadata": {},
   "source": [
    "Predecimos y medimos _accuracy_, y revisamos la matriz de confusión."
   ]
  },
  {
   "cell_type": "code",
   "execution_count": 16,
   "metadata": {},
   "outputs": [],
   "source": [
    "y_pred = model.predict(X2)"
   ]
  },
  {
   "cell_type": "code",
   "execution_count": 17,
   "metadata": {},
   "outputs": [
    {
     "data": {
      "text/plain": [
       "0.8375435540069687"
      ]
     },
     "execution_count": 17,
     "metadata": {},
     "output_type": "execute_result"
    }
   ],
   "source": [
    "from sklearn.metrics import accuracy_score\n",
    "accuracy_score(y2, y_pred)"
   ]
  },
  {
   "cell_type": "markdown",
   "metadata": {},
   "source": [
    "Vaya, bastante bien, ¿no?"
   ]
  },
  {
   "cell_type": "code",
   "execution_count": 18,
   "metadata": {},
   "outputs": [
    {
     "data": {
      "image/png": "[encoded data removed]",
      "text/plain": [
       "<Figure size 432x288 with 1 Axes>"
      ]
     },
     "metadata": {
      "image/png": {
       "height": 270,
       "width": 271
      }
     },
     "output_type": "display_data"
    }
   ],
   "source": [
    "%matplotlib inline\n",
    "%config InlineBackend.figure_format = 'retina'\n",
    "import numpy as np\n",
    "import matplotlib.pyplot as plt\n",
    "import seaborn as sns; sns.set()\n",
    "from sklearn.metrics import confusion_matrix\n",
    "mat = confusion_matrix(y2, y_pred)\n",
    "sns.heatmap(mat.T, square=True, annot=True, fmt='d', cbar=False, linewidth=1,\n",
    "            xticklabels=vec.classes_, yticklabels=vec.classes_)\n",
    "plt.xlabel('categoría real')\n",
    "plt.ylabel('predicción');"
   ]
  },
  {
   "cell_type": "markdown",
   "metadata": {},
   "source": [
    "Pues resulta que el clasificador no fue capaz de sortear el sesgo en el dataset. Quizás el hiperparámetro `class_prior` ayuda:"
   ]
  },
  {
   "cell_type": "code",
   "execution_count": 19,
   "metadata": {},
   "outputs": [
    {
     "data": {
      "text/plain": [
       "female    0.165698\n",
       "male      0.834302\n",
       "Name: gender, dtype: float64"
      ]
     },
     "execution_count": 19,
     "metadata": {},
     "output_type": "execute_result"
    }
   ],
   "source": [
    "class_priors = records.gender.value_counts(normalize=True, sort=False).loc[vec.classes_]\n",
    "class_priors"
   ]
  },
  {
   "cell_type": "code",
   "execution_count": 20,
   "metadata": {},
   "outputs": [
    {
     "data": {
      "text/plain": [
       "MultinomialNB(alpha=1.0, class_prior=array([0.1657, 0.8343]), fit_prior=True)"
      ]
     },
     "execution_count": 20,
     "metadata": {},
     "output_type": "execute_result"
    }
   ],
   "source": [
    "model = MultinomialNB(class_prior=class_priors.values)\n",
    "model.fit(X1, y1)"
   ]
  },
  {
   "cell_type": "code",
   "execution_count": 21,
   "metadata": {},
   "outputs": [
    {
     "data": {
      "text/plain": [
       "0.8375435540069687"
      ]
     },
     "execution_count": 21,
     "metadata": {},
     "output_type": "execute_result"
    }
   ],
   "source": [
    "y_pred = model.predict(X2)\n",
    "accuracy_score(y2, y_pred)"
   ]
  },
  {
   "cell_type": "code",
   "execution_count": 22,
   "metadata": {},
   "outputs": [
    {
     "data": {
      "image/png": "[encoded data removed]",
      "text/plain": [
       "<Figure size 432x288 with 1 Axes>"
      ]
     },
     "metadata": {
      "image/png": {
       "height": 270,
       "width": 271
      }
     },
     "output_type": "display_data"
    }
   ],
   "source": [
    "mat = confusion_matrix(y2, y_pred)\n",
    "sns.heatmap(mat.T, square=True, annot=True, fmt='d', cbar=False, linewidth=1,\n",
    "            xticklabels=vec.classes_, yticklabels=vec.classes_)\n",
    "plt.xlabel('categoría real')\n",
    "plt.ylabel('predicción');"
   ]
  },
  {
   "cell_type": "markdown",
   "metadata": {},
   "source": [
    "No.\n",
    "\n",
    "## Aprendizaje Balanceado (enfoque simple)\n",
    "\n",
    "Entrenemos el modelo con una cantidad balanceada de clases, utilizando una estrategia ingenua: usemos la misma cantidad de biografías de hombres que de mujeres."
   ]
  },
  {
   "cell_type": "code",
   "execution_count": 23,
   "metadata": {},
   "outputs": [
    {
     "data": {
      "text/plain": [
       "array(['female', 'male'], dtype=object)"
      ]
     },
     "execution_count": 23,
     "metadata": {},
     "output_type": "execute_result"
    }
   ],
   "source": [
    "vec.classes_"
   ]
  },
  {
   "cell_type": "code",
   "execution_count": 24,
   "metadata": {},
   "outputs": [
    {
     "data": {
      "text/plain": [
       "(6087,)"
      ]
     },
     "execution_count": 24,
     "metadata": {},
     "output_type": "execute_result"
    }
   ],
   "source": [
    "female_idx = np.where(y1 == 0)[0]\n",
    "female_idx.shape"
   ]
  },
  {
   "cell_type": "markdown",
   "metadata": {},
   "source": [
    "Ya que hay 6087 mujeres, elegiremos al azar 6087 biografías de hombres."
   ]
  },
  {
   "cell_type": "code",
   "execution_count": 25,
   "metadata": {},
   "outputs": [
    {
     "data": {
      "text/plain": [
       "(30648,)"
      ]
     },
     "execution_count": 25,
     "metadata": {},
     "output_type": "execute_result"
    }
   ],
   "source": [
    "male_idx = np.where(y1 == 1)[0]\n",
    "male_idx.shape"
   ]
  },
  {
   "cell_type": "code",
   "execution_count": 26,
   "metadata": {},
   "outputs": [
    {
     "data": {
      "text/plain": [
       "(6087,)"
      ]
     },
     "execution_count": 26,
     "metadata": {},
     "output_type": "execute_result"
    }
   ],
   "source": [
    "balanced_male_idx = np.random.choice(male_idx, size=female_idx.shape[0])\n",
    "balanced_male_idx.shape"
   ]
  },
  {
   "cell_type": "markdown",
   "metadata": {},
   "source": [
    "De la matriz de características extraeremos los índices de este nuevo set de entrenamiento:"
   ]
  },
  {
   "cell_type": "code",
   "execution_count": 27,
   "metadata": {},
   "outputs": [
    {
     "data": {
      "text/plain": [
       "(12174,)"
      ]
     },
     "execution_count": 27,
     "metadata": {},
     "output_type": "execute_result"
    }
   ],
   "source": [
    "train_idx = np.hstack([female_idx, balanced_male_idx])\n",
    "train_idx.shape"
   ]
  },
  {
   "cell_type": "code",
   "execution_count": 28,
   "metadata": {},
   "outputs": [],
   "source": [
    "balanced_X1 = X1[train_idx,:]\n",
    "balanced_y1 = y1[train_idx]"
   ]
  },
  {
   "cell_type": "markdown",
   "metadata": {},
   "source": [
    "Ejecutamos la receta: ajustaremos con el set de entrenamiento, y evaluaremos con el set de validación:"
   ]
  },
  {
   "cell_type": "code",
   "execution_count": 30,
   "metadata": {},
   "outputs": [
    {
     "data": {
      "text/plain": [
       "0.9245154616724739"
      ]
     },
     "execution_count": 30,
     "metadata": {},
     "output_type": "execute_result"
    }
   ],
   "source": [
    "model = MultinomialNB()\n",
    "model.fit(balanced_X1, balanced_y1)\n",
    "y_pred = model.predict(X2)\n",
    "accuracy_score(y2, y_pred)"
   ]
  },
  {
   "cell_type": "markdown",
   "metadata": {},
   "source": [
    "¡Mejoró! "
   ]
  },
  {
   "cell_type": "code",
   "execution_count": 31,
   "metadata": {},
   "outputs": [
    {
     "data": {
      "image/png": "[encoded data removed]",
      "text/plain": [
       "<Figure size 432x288 with 1 Axes>"
      ]
     },
     "metadata": {
      "image/png": {
       "height": 270,
       "width": 271
      }
     },
     "output_type": "display_data"
    }
   ],
   "source": [
    "mat = confusion_matrix(y2, y_pred)\n",
    "sns.heatmap(mat.T, square=True, annot=True, fmt='d', cbar=False, linewidth=1,\n",
    "            xticklabels=vec.classes_, yticklabels=vec.classes_)\n",
    "plt.xlabel('categoría real')\n",
    "plt.ylabel('predicción');"
   ]
  },
  {
   "cell_type": "markdown",
   "metadata": {},
   "source": [
    "Sigue habiendo confusión, pero funciona :) \n",
    "    \n",
    "Con esto cerramos este ejemplo. ¿Qué más se les ocurre hacer con estos datos?"
   ]
  },
  {
   "cell_type": "code",
   "execution_count": null,
   "metadata": {},
   "outputs": [],
   "source": []
  }
 ],
 "metadata": {
  "kernelspec": {
   "display_name": "Python 3",
   "language": "python",
   "name": "python3"
  },
  "language_info": {
   "codemirror_mode": {
    "name": "ipython",
    "version": 3
   },
   "file_extension": ".py",
   "mimetype": "text/x-python",
   "name": "python",
   "nbconvert_exporter": "python",
   "pygments_lexer": "ipython3",
   "version": "3.5.1+"
  }
 },
 "nbformat": 4,
 "nbformat_minor": 2
}
